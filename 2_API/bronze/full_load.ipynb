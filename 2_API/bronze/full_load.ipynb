{
 "cells": [
  {
   "cell_type": "code",
   "execution_count": 1,
   "metadata": {},
   "outputs": [
    {
     "name": "stdout",
     "output_type": "stream",
     "text": [
      "Requirement already satisfied: requests in c:\\users\\julia muto\\appdata\\local\\programs\\python\\python313\\lib\\site-packages (2.32.3)\n",
      "Requirement already satisfied: charset-normalizer<4,>=2 in c:\\users\\julia muto\\appdata\\local\\programs\\python\\python313\\lib\\site-packages (from requests) (3.4.0)\n",
      "Requirement already satisfied: idna<4,>=2.5 in c:\\users\\julia muto\\appdata\\local\\programs\\python\\python313\\lib\\site-packages (from requests) (3.10)\n",
      "Requirement already satisfied: urllib3<3,>=1.21.1 in c:\\users\\julia muto\\appdata\\local\\programs\\python\\python313\\lib\\site-packages (from requests) (2.2.3)\n",
      "Requirement already satisfied: certifi>=2017.4.17 in c:\\users\\julia muto\\appdata\\local\\programs\\python\\python313\\lib\\site-packages (from requests) (2024.8.30)\n",
      "Note: you may need to restart the kernel to use updated packages.\n"
     ]
    }
   ],
   "source": [
    "pip install requests"
   ]
  },
  {
   "cell_type": "code",
   "execution_count": 2,
   "metadata": {},
   "outputs": [],
   "source": [
    "import json, requests, os, json\n"
   ]
  },
  {
   "cell_type": "code",
   "execution_count": 3,
   "metadata": {},
   "outputs": [],
   "source": [
    "symbols = ['ABEV', 'AFYA', 'AMPL', 'ARCO', 'BZFD', 'BSBR', 'BYND', 'DNUT', 'FOX', 'ERIC']\n",
    "start_date = '2024-11-20'\n",
    "end_date = '2024-12-01'"
   ]
  },
  {
   "cell_type": "code",
   "execution_count": 4,
   "metadata": {},
   "outputs": [],
   "source": [
    "#load API key\n",
    "\n",
    "config_path = \"../config.json\"\n",
    "\n",
    "with open(config_path, \"r\") as file:\n",
    "    config = json.load(file)\n",
    "\n",
    "api_key = config[\"STOCK_API_KEY\"]"
   ]
  },
  {
   "cell_type": "code",
   "execution_count": 10,
   "metadata": {},
   "outputs": [
    {
     "name": "stdout",
     "output_type": "stream",
     "text": [
      "bronze_data.json cleared.\n",
      "ABEV data saved successfully.\n",
      "AFYA data saved successfully.\n",
      "AMPL data saved successfully.\n",
      "ARCO data saved successfully.\n",
      "BZFD data saved successfully.\n",
      "BSBR data saved successfully.\n",
      "BYND data saved successfully.\n",
      "DNUT data saved successfully.\n",
      "FOX data saved successfully.\n",
      "ERIC data saved successfully.\n"
     ]
    }
   ],
   "source": [
    "#create bronze file, load data from each ticker and save the symbol name \n",
    "\n",
    "bronze_file = \"bronze_data.json\"\n",
    "\n",
    "if not os.path.exists(bronze_file):\n",
    "    with open(bronze_file, \"w\") as file:\n",
    "        json.dump([], file)\n",
    "        print(f\"{bronze_file} created.\")\n",
    "else:\n",
    "    with open(bronze_file, \"w\") as file:\n",
    "        file.write('')\n",
    "        print(f\"{bronze_file} cleared.\")\n",
    "\n",
    "with open(bronze_file, \"w\") as file:\n",
    "    for symbol in symbols:\n",
    "        params={'api_token':api_key, 'symbols':symbol, 'date_from':start_date, 'date_to': end_date}\n",
    "        r = requests.get('https://api.stockdata.org/v1/data/eod', params=params)\n",
    "        if r.status_code == 200:\n",
    "            data = r.json()\n",
    "            data[\"symbol\"] = symbol\n",
    "            file.write(json.dumps(data) + \"\\n\")\n",
    "            print(f\"{symbol} data saved successfully.\")\n",
    "        else:\n",
    "            print(f\"Error loading data for {symbol}: {r.status_code}\")\n",
    "            break\n"
   ]
  },
  {
   "cell_type": "code",
   "execution_count": 11,
   "metadata": {},
   "outputs": [
    {
     "name": "stdout",
     "output_type": "stream",
     "text": [
      "Data has been loaded\n",
      "{'meta': {'date_from': '2024-11-20', 'date_to': '2024-12-01', 'max_period_days': 180}, 'data': [{'date': '2024-11-29T00:00:00.000Z', 'open': 2.06, 'high': 2.14, 'low': 2.05, 'close': 2.12, 'volume': 1530812}, {'date': '2024-11-27T00:00:00.000Z', 'open': 2.19, 'high': 2.2, 'low': 2.14, 'close': 2.14, 'volume': 1661474}, {'date': '2024-11-26T00:00:00.000Z', 'open': 2.18, 'high': 2.21, 'low': 2.17, 'close': 2.2, 'volume': 622062}, {'date': '2024-11-25T00:00:00.000Z', 'open': 2.2, 'high': 2.21, 'low': 2.17, 'close': 2.17, 'volume': 394975}, {'date': '2024-11-22T00:00:00.000Z', 'open': 2.17, 'high': 2.2, 'low': 2.17, 'close': 2.2, 'volume': 436940}, {'date': '2024-11-21T00:00:00.000Z', 'open': 2.15, 'high': 2.17, 'low': 2.15, 'close': 2.15, 'volume': 449623}, {'date': '2024-11-20T00:00:00.000Z', 'open': 2.17, 'high': 2.18, 'low': 2.16, 'close': 2.16, 'volume': 179715}], 'symbol': 'ABEV'}\n",
      "{'meta': {'date_from': '2024-11-20', 'date_to': '2024-12-01', 'max_period_days': 180}, 'data': [{'date': '2024-11-29T00:00:00.000Z', 'open': 16.43, 'high': 16.51, 'low': 16.19, 'close': 16.22, 'volume': 2328}, {'date': '2024-11-27T00:00:00.000Z', 'open': 17.17, 'high': 17.38, 'low': 16.68, 'close': 16.72, 'volume': 2793}, {'date': '2024-11-26T00:00:00.000Z', 'open': 16.91, 'high': 17.11, 'low': 16.73, 'close': 17.05, 'volume': 6058}, {'date': '2024-11-25T00:00:00.000Z', 'open': 17.04, 'high': 17.08, 'low': 16.81, 'close': 16.85, 'volume': 3686}, {'date': '2024-11-22T00:00:00.000Z', 'open': 16.62, 'high': 16.89, 'low': 16.62, 'close': 16.74, 'volume': 4935}, {'date': '2024-11-21T00:00:00.000Z', 'open': 16.46, 'high': 16.53, 'low': 16.23, 'close': 16.26, 'volume': 3440}, {'date': '2024-11-20T00:00:00.000Z', 'open': 16.37, 'high': 16.4, 'low': 16.15, 'close': 16.36, 'volume': 5054}], 'symbol': 'AFYA'}\n",
      "{'meta': {'date_from': '2024-11-20', 'date_to': '2024-12-01', 'max_period_days': 180}, 'data': [{'date': '2024-11-29T00:00:00.000Z', 'open': 10.62, 'high': 10.62, 'low': 10.34, 'close': 10.35, 'volume': 14528}, {'date': '2024-11-27T00:00:00.000Z', 'open': 10.66, 'high': 10.66, 'low': 10.3, 'close': 10.44, 'volume': 21399}, {'date': '2024-11-26T00:00:00.000Z', 'open': 10.81, 'high': 10.82, 'low': 10.55, 'close': 10.56, 'volume': 10455}, {'date': '2024-11-25T00:00:00.000Z', 'open': 10.92, 'high': 11.01, 'low': 10.74, 'close': 10.8, 'volume': 12964}, {'date': '2024-11-22T00:00:00.000Z', 'open': 10.61, 'high': 10.86, 'low': 10.61, 'close': 10.73, 'volume': 36185}, {'date': '2024-11-21T00:00:00.000Z', 'open': 10.44, 'high': 10.62, 'low': 10.27, 'close': 10.48, 'volume': 15202}, {'date': '2024-11-20T00:00:00.000Z', 'open': 10.39, 'high': 10.54, 'low': 10.17, 'close': 10.34, 'volume': 16879}], 'symbol': 'AMPL'}\n",
      "{'meta': {'date_from': '2024-11-20', 'date_to': '2024-12-01', 'max_period_days': 180}, 'data': [{'date': '2024-11-29T00:00:00.000Z', 'open': 7.86, 'high': 8.13, 'low': 7.86, 'close': 8.09, 'volume': 102366}, {'date': '2024-11-27T00:00:00.000Z', 'open': 8.28, 'high': 8.34, 'low': 8.12, 'close': 8.2, 'volume': 51566}, {'date': '2024-11-26T00:00:00.000Z', 'open': 8.35, 'high': 8.35, 'low': 8.15, 'close': 8.22, 'volume': 48102}, {'date': '2024-11-25T00:00:00.000Z', 'open': 8.56, 'high': 8.57, 'low': 8.37, 'close': 8.45, 'volume': 67284}, {'date': '2024-11-22T00:00:00.000Z', 'open': 8.35, 'high': 8.41, 'low': 8.28, 'close': 8.41, 'volume': 67895}, {'date': '2024-11-21T00:00:00.000Z', 'open': 8.43, 'high': 8.43, 'low': 8.32, 'close': 8.33, 'volume': 75075}, {'date': '2024-11-20T00:00:00.000Z', 'open': 8.45, 'high': 8.53, 'low': 8.35, 'close': 8.52, 'volume': 50837}], 'symbol': 'ARCO'}\n",
      "{'meta': {'date_from': '2024-11-20', 'date_to': '2024-12-01', 'max_period_days': 180}, 'data': [{'date': '2024-11-29T00:00:00.000Z', 'open': 4.4, 'high': 4.84, 'low': 4.39, 'close': 4.46, 'volume': 6846}, {'date': '2024-11-27T00:00:00.000Z', 'open': 4.16, 'high': 4.5, 'low': 3.85, 'close': 4.47, 'volume': 24444}, {'date': '2024-11-26T00:00:00.000Z', 'open': 4.28, 'high': 4.34, 'low': 3.92, 'close': 4.01, 'volume': 11972}, {'date': '2024-11-25T00:00:00.000Z', 'open': 3.9, 'high': 4.37, 'low': 3.82, 'close': 4.24, 'volume': 39055}, {'date': '2024-11-22T00:00:00.000Z', 'open': 3.25, 'high': 3.78, 'low': 3.19, 'close': 3.76, 'volume': 26924}, {'date': '2024-11-21T00:00:00.000Z', 'open': 3.09, 'high': 3.33, 'low': 3.09, 'close': 3.25, 'volume': 50196}, {'date': '2024-11-20T00:00:00.000Z', 'open': 3.19, 'high': 3.28, 'low': 3.02, 'close': 3.02, 'volume': 34244}], 'symbol': 'BZFD'}\n",
      "{'meta': {'date_from': '2024-11-20', 'date_to': '2024-12-01', 'max_period_days': 180}, 'data': [{'date': '2024-11-29T00:00:00.000Z', 'open': 4.08, 'high': 4.21, 'low': 4.07, 'close': 4.15, 'volume': 16281}, {'date': '2024-11-27T00:00:00.000Z', 'open': 4.6, 'high': 4.6, 'low': 4.35, 'close': 4.37, 'volume': 40831}, {'date': '2024-11-26T00:00:00.000Z', 'open': 4.57, 'high': 4.66, 'low': 4.55, 'close': 4.61, 'volume': 29166}, {'date': '2024-11-25T00:00:00.000Z', 'open': 4.59, 'high': 4.62, 'low': 4.55, 'close': 4.6, 'volume': 55801}, {'date': '2024-11-22T00:00:00.000Z', 'open': 4.37, 'high': 4.53, 'low': 4.37, 'close': 4.52, 'volume': 14204}, {'date': '2024-11-21T00:00:00.000Z', 'open': 4.35, 'high': 4.37, 'low': 4.32, 'close': 4.37, 'volume': 20797}, {'date': '2024-11-20T00:00:00.000Z', 'open': 4.42, 'high': 4.48, 'low': 4.42, 'close': 4.46, 'volume': 29695}], 'symbol': 'BSBR'}\n",
      "{'meta': {'date_from': '2024-11-20', 'date_to': '2024-12-01', 'max_period_days': 180}, 'data': [{'date': '2024-11-29T00:00:00.000Z', 'open': 5.05, 'high': 5.05, 'low': 4.96, 'close': 4.99, 'volume': 40373}, {'date': '2024-11-27T00:00:00.000Z', 'open': 5.16, 'high': 5.24, 'low': 5.04, 'close': 5.05, 'volume': 38491}, {'date': '2024-11-26T00:00:00.000Z', 'open': 5.17, 'high': 5.19, 'low': 4.98, 'close': 5.17, 'volume': 108405}, {'date': '2024-11-25T00:00:00.000Z', 'open': 4.92, 'high': 5.33, 'low': 4.84, 'close': 5.28, 'volume': 131709}, {'date': '2024-11-22T00:00:00.000Z', 'open': 5.04, 'high': 5.05, 'low': 4.86, 'close': 4.88, 'volume': 43120}, {'date': '2024-11-21T00:00:00.000Z', 'open': 5.17, 'high': 5.17, 'low': 5.01, 'close': 5.02, 'volume': 66832}, {'date': '2024-11-20T00:00:00.000Z', 'open': 4.94, 'high': 5.21, 'low': 4.93, 'close': 5.17, 'volume': 87680}], 'symbol': 'BYND'}\n",
      "{'meta': {'date_from': '2024-11-20', 'date_to': '2024-12-01', 'max_period_days': 180}, 'data': [{'date': '2024-11-29T00:00:00.000Z', 'open': 10.99, 'high': 11.21, 'low': 10.98, 'close': 11.03, 'volume': 25256}, {'date': '2024-11-27T00:00:00.000Z', 'open': 11.07, 'high': 11.13, 'low': 10.92, 'close': 11.01, 'volume': 35805}, {'date': '2024-11-26T00:00:00.000Z', 'open': 11.05, 'high': 11.07, 'low': 10.86, 'close': 10.92, 'volume': 28897}, {'date': '2024-11-25T00:00:00.000Z', 'open': 11.23, 'high': 11.27, 'low': 11.09, 'close': 11.13, 'volume': 53566}, {'date': '2024-11-22T00:00:00.000Z', 'open': 11.13, 'high': 11.22, 'low': 11.06, 'close': 11.15, 'volume': 47355}, {'date': '2024-11-21T00:00:00.000Z', 'open': 10.92, 'high': 11.11, 'low': 10.83, 'close': 11.05, 'volume': 27876}, {'date': '2024-11-20T00:00:00.000Z', 'open': 10.77, 'high': 10.96, 'low': 10.77, 'close': 10.9, 'volume': 62602}], 'symbol': 'DNUT'}\n",
      "{'meta': {'date_from': '2024-11-20', 'date_to': '2024-12-01', 'max_period_days': 180}, 'data': [{'date': '2024-11-29T00:00:00.000Z', 'open': 44.55, 'high': 44.88, 'low': 44.32, 'close': 44.72, 'volume': 11533}, {'date': '2024-11-27T00:00:00.000Z', 'open': 44.36, 'high': 44.54, 'low': 44.25, 'close': 44.37, 'volume': 34954}, {'date': '2024-11-26T00:00:00.000Z', 'open': 43.81, 'high': 44, 'low': 43.59, 'close': 43.79, 'volume': 23718}, {'date': '2024-11-25T00:00:00.000Z', 'open': 44.55, 'high': 44.64, 'low': 43.55, 'close': 43.72, 'volume': 56565}, {'date': '2024-11-22T00:00:00.000Z', 'open': 44.02, 'high': 44.56, 'low': 44.02, 'close': 44.36, 'volume': 22159}, {'date': '2024-11-21T00:00:00.000Z', 'open': 43.52, 'high': 44.27, 'low': 43.1, 'close': 44.1, 'volume': 38216}, {'date': '2024-11-20T00:00:00.000Z', 'open': 43.24, 'high': 43.46, 'low': 42.94, 'close': 43.38, 'volume': 133148}], 'symbol': 'FOX'}\n",
      "{'meta': {'date_from': '2024-11-20', 'date_to': '2024-12-01', 'max_period_days': 180}, 'data': [{'date': '2024-11-29T00:00:00.000Z', 'open': 8.17, 'high': 8.2, 'low': 8.11, 'close': 8.14, 'volume': 305049}, {'date': '2024-11-27T00:00:00.000Z', 'open': 8.26, 'high': 8.27, 'low': 8.18, 'close': 8.19, 'volume': 245422}, {'date': '2024-11-26T00:00:00.000Z', 'open': 8.2, 'high': 8.23, 'low': 8.16, 'close': 8.2, 'volume': 626334}, {'date': '2024-11-25T00:00:00.000Z', 'open': 8.13, 'high': 8.18, 'low': 8.09, 'close': 8.16, 'volume': 783578}, {'date': '2024-11-22T00:00:00.000Z', 'open': 8.04, 'high': 8.16, 'low': 8.03, 'close': 8.14, 'volume': 770235}, {'date': '2024-11-21T00:00:00.000Z', 'open': 7.94, 'high': 8.02, 'low': 7.92, 'close': 8.02, 'volume': 646624}, {'date': '2024-11-20T00:00:00.000Z', 'open': 8.05, 'high': 8.05, 'low': 7.93, 'close': 8, 'volume': 485157}], 'symbol': 'ERIC'}\n"
     ]
    }
   ],
   "source": [
    "with open(bronze_file, 'r') as file:\n",
    "    data = []\n",
    "    for line in file:\n",
    "        try:\n",
    "            object = json.loads(line)\n",
    "            data.append(object)\n",
    "        except json.JSONDecodeError as error:\n",
    "            print(f\"error: {error}\")\n",
    "    print(\"Data has been loaded\")\n",
    "    for record in data:\n",
    "        print(record)"
   ]
  }
 ],
 "metadata": {
  "kernelspec": {
   "display_name": "Python 3",
   "language": "python",
   "name": "python3"
  },
  "language_info": {
   "codemirror_mode": {
    "name": "ipython",
    "version": 3
   },
   "file_extension": ".py",
   "mimetype": "text/x-python",
   "name": "python",
   "nbconvert_exporter": "python",
   "pygments_lexer": "ipython3",
   "version": "3.13.0"
  }
 },
 "nbformat": 4,
 "nbformat_minor": 2
}
