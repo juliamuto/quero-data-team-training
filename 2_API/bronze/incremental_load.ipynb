{
 "cells": [
  {
   "cell_type": "code",
   "execution_count": 31,
   "metadata": {},
   "outputs": [
    {
     "name": "stdout",
     "output_type": "stream",
     "text": [
      "Most recent date: 2024-11-29\n"
     ]
    }
   ],
   "source": [
    "import json\n",
    "import requests\n",
    "from datetime import datetime, timedelta\n",
    "\n",
    "#load API key\n",
    "config_path = \"../config.json\"\n",
    "\n",
    "with open(config_path, \"r\") as file:\n",
    "    config = json.load(file)\n",
    "\n",
    "api_key = config[\"STOCK_API_KEY\"]\n",
    "\n",
    "#load bronze file\n",
    "bronze_file = \"bronze_data.json\"\n",
    "\n",
    "#read file to collect dates and symbols, and store a key to avoid data duplication\n",
    "existing_data = {}\n",
    "most_recent_date = None\n",
    "symbols = []\n",
    "\n",
    "with open(bronze_file, 'r') as file:\n",
    "    file_data = [json.loads(line) for line in file]\n",
    "    for dataset in file_data:\n",
    "        symbol = dataset['symbol']\n",
    "        if symbol not in symbols:\n",
    "            symbols.append(symbol) \n",
    "        for entry in dataset['data']:\n",
    "            date = datetime.fromisoformat(entry['date'][:-1]).date()\n",
    "            avoid_duplicates_key = (symbol, date) \n",
    "            existing_data[avoid_duplicates_key] = True\n",
    "            if most_recent_date is None or date > most_recent_date:\n",
    "                most_recent_date = date \n",
    "\n",
    "#print results\n",
    "if most_recent_date:\n",
    "    print(\"Most recent date:\", most_recent_date)\n",
    "    \n",
    "else:\n",
    "    print(\"No dates found in the data.\")"
   ]
  },
  {
   "cell_type": "code",
   "execution_count": 33,
   "metadata": {},
   "outputs": [
    {
     "name": "stdout",
     "output_type": "stream",
     "text": [
      "Loading data from ABEV\n",
      "Successfully fetched data from ABEV!\n",
      "Loading data from AFYA\n",
      "Successfully fetched data from AFYA!\n",
      "Loading data from AMPL\n",
      "Successfully fetched data from AMPL!\n",
      "Loading data from ARCO\n",
      "Successfully fetched data from ARCO!\n",
      "Loading data from BZFD\n",
      "Successfully fetched data from BZFD!\n",
      "Loading data from BSBR\n",
      "Successfully fetched data from BSBR!\n",
      "Loading data from BYND\n",
      "Successfully fetched data from BYND!\n",
      "Loading data from DNUT\n",
      "Successfully fetched data from DNUT!\n",
      "Loading data from FOX\n",
      "Successfully fetched data from FOX!\n",
      "Loading data from ERIC\n",
      "Successfully fetched data from ERIC!\n"
     ]
    }
   ],
   "source": [
    "#get new dates from the API\n",
    "if most_recent_date:\n",
    "    start_date = (most_recent_date + timedelta(days=1)).strftime(\"%Y-%m-%d\")\n",
    "    with open(bronze_file, \"a\") as file:\n",
    "        for symbol in symbols:\n",
    "            params={'api_token':api_key, 'symbols':symbol, 'date_from':start_date}\n",
    "            r = requests.get('https://api.stockdata.org/v1/data/eod', params=params)\n",
    "            print(f'Loading data from {symbol}')\n",
    "            if r.status_code == 200:\n",
    "                (print(f'Successfully fetched data from {symbol}!'))\n",
    "                #first, check if there is new data\n",
    "                new_data = r.json()\n",
    "                if not new_data.get('data'):\n",
    "                    print(f\"No new data available for {symbol} starting at {start_date}.\")\n",
    "                filtered_data = []\n",
    "                for entry in new_data.get('data', []):\n",
    "                    date = datetime.fromisoformat(entry['date'][:-1]).date()\n",
    "                    avoid_duplicates_key = (symbol, date)\n",
    "                    if avoid_duplicates_key not in existing_data:\n",
    "                        filtered_data.append(entry)\n",
    "                        existing_data[avoid_duplicates_key] = True\n",
    "                    \n",
    "                    #only append new data\n",
    "                if filtered_data:\n",
    "                    new_data['data'] = filtered_data\n",
    "                    new_data['symbol'] = symbol\n",
    "                    file.write(json.dumps(new_data) + \"\\n\")\n",
    "                    print(f\"{symbol} data saved successfully.\")\n",
    "                    print(new_data)\n",
    "            else:\n",
    "                print(f\"Error loading data for {symbol}: {r.status_code}\")\n",
    "                break\n",
    "else:\n",
    "    print('There is no recent date.')"
   ]
  }
 ],
 "metadata": {
  "kernelspec": {
   "display_name": "Python 3",
   "language": "python",
   "name": "python3"
  },
  "language_info": {
   "codemirror_mode": {
    "name": "ipython",
    "version": 3
   },
   "file_extension": ".py",
   "mimetype": "text/x-python",
   "name": "python",
   "nbconvert_exporter": "python",
   "pygments_lexer": "ipython3",
   "version": "3.13.0"
  }
 },
 "nbformat": 4,
 "nbformat_minor": 2
}
