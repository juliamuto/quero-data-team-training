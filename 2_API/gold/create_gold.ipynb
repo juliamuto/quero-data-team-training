{
 "cells": [
  {
   "cell_type": "code",
   "execution_count": null,
   "metadata": {},
   "outputs": [],
   "source": [
    "pip install pyarrow"
   ]
  },
  {
   "cell_type": "code",
   "execution_count": null,
   "metadata": {},
   "outputs": [
    {
     "name": "stdout",
     "output_type": "stream",
     "text": [
      "    codigo_acao         dia  preco\n",
      "0          ABEV  2024-11-29  2.090\n",
      "1          ABEV  2024-11-27  2.165\n",
      "2          ABEV  2024-11-26  2.190\n",
      "3          ABEV  2024-11-25  2.185\n",
      "4          ABEV  2024-11-22  2.185\n",
      "..          ...         ...    ...\n",
      "125        ERIC  2024-12-06  8.390\n",
      "126        ERIC  2024-12-05  8.420\n",
      "127        ERIC  2024-12-04  8.260\n",
      "128        ERIC  2024-12-03  8.235\n",
      "129        ERIC  2024-12-02  8.230\n",
      "\n",
      "[130 rows x 3 columns]\n"
     ]
    }
   ],
   "source": [
    "import pandas as pd\n",
    "\n",
    "silver_file = \"../silver/silver_table.parquet\"\n",
    "\n",
    "#read silver table\n",
    "silver = pd.read_parquet(silver_file)\n",
    "\n",
    "#create columns = codigo_acao, dia, preco\n",
    "silver[\"codigo_acao\"] = silver[\"symbol\"]\n",
    "silver[\"dia\"] = silver[\"date\"].dt.strftime('%Y-%m-%d')\n",
    "silver[\"preco\"] = (silver[\"open\"]+silver[\"close\"])/2\n",
    "\n",
    "#select columns for gold_table\n",
    "gold = silver[['codigo_acao', 'dia', 'preco']]\n",
    "\n",
    "#save as parquet\n",
    "gold.to_parquet(\"gold_table.parquet\")"
   ]
  }
 ],
 "metadata": {
  "kernelspec": {
   "display_name": "Python 3",
   "language": "python",
   "name": "python3"
  },
  "language_info": {
   "codemirror_mode": {
    "name": "ipython",
    "version": 3
   },
   "file_extension": ".py",
   "mimetype": "text/x-python",
   "name": "python",
   "nbconvert_exporter": "python",
   "pygments_lexer": "ipython3",
   "version": "3.13.0"
  }
 },
 "nbformat": 4,
 "nbformat_minor": 2
}
