{
 "cells": [
  {
   "cell_type": "code",
   "execution_count": 1,
   "id": "19a134f8",
   "metadata": {},
   "outputs": [
    {
     "name": "stdout",
     "output_type": "stream",
     "text": [
      "Data source import complete.\n"
     ]
    }
   ],
   "source": [
    "import kagglehub\n",
    "redwankarimsony_auto_insurance_in_sweden_path = kagglehub.dataset_download('redwankarimsony/auto-insurance-in-sweden')\n",
    "\n",
    "print('Data source import complete.')"
   ]
  },
  {
   "cell_type": "markdown",
   "id": "c8c17593-0c22-4540-bd8a-7fe5a6074b51",
   "metadata": {},
   "source": [
    "---"
   ]
  },
  {
   "cell_type": "markdown",
   "id": "5412f204-ba50-4c41-a63b-67696a6e88aa",
   "metadata": {},
   "source": [
    "Este é um tutorial muito simples, destinado a iniciantes para entender e implementar a Regressão Linear Simples do zero.\n",
    "\n",
    "<font color='blue'> Regressão Linear Simples </font> é um ótimo primeiro algoritmo de aprendizado de máquina para implementar, pois requer que você estime propriedades do seu conjunto de dados de treinamento, mas é simples o suficiente para iniciantes entenderem. A regressão linear é um método de previsão com mais de 200 anos. Neste tutorial, você descobrirá como implementar o algoritmo de regressão linear simples do zero em Python.\n",
    "\n",
    "Depois de concluir este tutorial, você saberá:<br>\n",
    "&#9632; Como estimar estatísticas a partir de dados de treinamento.<br>\n",
    "&#9632; Como estimar coeficientes de regressão linear a partir de dados.<br>\n",
    "&#9632; Como fazer previsões usando regressão linear para novos dados.<br>\n",
    "\n",
    "A regressão linear pressupõe uma **relação linear ou de linha reta entre as variáveis ​​de entrada (X) e a variável de saída única (y).** Mais especificamente, essa saída (y) pode ser calculada a partir de uma combinação linear das variáveis ​​de entrada (X). Quando há uma única variável de entrada, o método é chamado de regressão linear simples.\n",
    "\n",
    "Na regressão linear simples, podemos usar estatísticas nos dados de treinamento para estimar os coeficientes exigidos pelo modelo para fazer previsões em novos dados.\n",
    "\n",
    "A linha para um modelo de regressão linear simples pode ser escrita como:\n",
    "\n",
    "$$ y = b_0 + b_1 * x $$\n",
    "onde $b_0$ e $b_1$ são os coeficientes que devemos estimar a partir dos dados de treinamento. Uma vez que os coeficientes são conhecidos, podemos usar esta equação para estimar valores de saída para $y$ dados novos exemplos de entrada de $x$. Ela requer que você calcule propriedades estatísticas a partir dos dados, como **média, variância** e **covariância.**"
   ]
  },
  {
   "cell_type": "markdown",
   "id": "a3daed8a-ff98-4560-a186-82dff4e942b5",
   "metadata": {},
   "source": [
    "## <font color = 'blue'> Conjunto de dados de seguros suecos</font>\n",
    "Usaremos um conjunto de dados real para demonstrar a regressão linear simples. O conjunto de dados é chamado de conjunto de dados **“Seguro de automóveis na Suécia”** e envolve **<font color='blue'> prever o pagamento total de todas as reivindicações em milhares de coroas suecas (y), dado o número total de reivindicações (x). </font>**\n",
    "\n",
    "Isso significa que, para um novo número de reivindicações (x), seremos capazes de prever o pagamento total de reivindicações (y)."
   ]
  },
  {
   "cell_type": "markdown",
   "id": "12519e43-f4af-4de8-8b57-aad416bbcd6c",
   "metadata": {},
   "source": [
    "Vamos carregar algumas bibliotecas básicas do Python que precisaremos ao longo deste tutorial."
   ]
  },
  {
   "cell_type": "code",
   "execution_count": 2,
   "id": "c79170c0",
   "metadata": {},
   "outputs": [],
   "source": [
    "# library for manipulating the csv data\n",
    "import pandas as pd\n",
    "\n",
    "# library for scientific calculations on numbers + linear algebra\n",
    "import numpy as np\n",
    "import math\n",
    "\n",
    "# # library for regular plot visualizations\n",
    "import matplotlib.pyplot as plt\n",
    "\n",
    "# #library for responsive visualizations\n",
    "import plotly.express as px\n",
    "    "
   ]
  },
  {
   "cell_type": "code",
   "execution_count": 3,
   "id": "6457c7f9",
   "metadata": {},
   "outputs": [
    {
     "name": "stdout",
     "output_type": "stream",
     "text": [
      "<class 'pandas.core.frame.DataFrame'>\n",
      "RangeIndex: 63 entries, 0 to 62\n",
      "Data columns (total 2 columns):\n",
      " #   Column  Non-Null Count  Dtype  \n",
      "---  ------  --------------  -----  \n",
      " 0   X       63 non-null     int64  \n",
      " 1   Y       63 non-null     float64\n",
      "dtypes: float64(1), int64(1)\n",
      "memory usage: 1.1 KB\n"
     ]
    }
   ],
   "source": [
    "data = pd.read_csv(redwankarimsony_auto_insurance_in_sweden_path + \"/swedish_insurance.csv\")\n",
    "data.info()"
   ]
  },
  {
   "cell_type": "code",
   "execution_count": 4,
   "id": "90f9b920",
   "metadata": {},
   "outputs": [
    {
     "name": "stdout",
     "output_type": "stream",
     "text": [
      "Index(['X', 'Y'], dtype='object')\n"
     ]
    },
    {
     "data": {
      "text/html": [
       "<div>\n",
       "<style scoped>\n",
       "    .dataframe tbody tr th:only-of-type {\n",
       "        vertical-align: middle;\n",
       "    }\n",
       "\n",
       "    .dataframe tbody tr th {\n",
       "        vertical-align: top;\n",
       "    }\n",
       "\n",
       "    .dataframe thead th {\n",
       "        text-align: right;\n",
       "    }\n",
       "</style>\n",
       "<table border=\"1\" class=\"dataframe\">\n",
       "  <thead>\n",
       "    <tr style=\"text-align: right;\">\n",
       "      <th></th>\n",
       "      <th>X</th>\n",
       "      <th>Y</th>\n",
       "    </tr>\n",
       "  </thead>\n",
       "  <tbody>\n",
       "    <tr>\n",
       "      <th>0</th>\n",
       "      <td>108</td>\n",
       "      <td>392.5</td>\n",
       "    </tr>\n",
       "    <tr>\n",
       "      <th>1</th>\n",
       "      <td>19</td>\n",
       "      <td>46.2</td>\n",
       "    </tr>\n",
       "    <tr>\n",
       "      <th>2</th>\n",
       "      <td>13</td>\n",
       "      <td>15.7</td>\n",
       "    </tr>\n",
       "    <tr>\n",
       "      <th>3</th>\n",
       "      <td>124</td>\n",
       "      <td>422.2</td>\n",
       "    </tr>\n",
       "    <tr>\n",
       "      <th>4</th>\n",
       "      <td>40</td>\n",
       "      <td>119.4</td>\n",
       "    </tr>\n",
       "    <tr>\n",
       "      <th>5</th>\n",
       "      <td>57</td>\n",
       "      <td>170.9</td>\n",
       "    </tr>\n",
       "    <tr>\n",
       "      <th>6</th>\n",
       "      <td>23</td>\n",
       "      <td>56.9</td>\n",
       "    </tr>\n",
       "    <tr>\n",
       "      <th>7</th>\n",
       "      <td>14</td>\n",
       "      <td>77.5</td>\n",
       "    </tr>\n",
       "    <tr>\n",
       "      <th>8</th>\n",
       "      <td>45</td>\n",
       "      <td>214.0</td>\n",
       "    </tr>\n",
       "    <tr>\n",
       "      <th>9</th>\n",
       "      <td>10</td>\n",
       "      <td>65.3</td>\n",
       "    </tr>\n",
       "  </tbody>\n",
       "</table>\n",
       "</div>"
      ],
      "text/plain": [
       "     X      Y\n",
       "0  108  392.5\n",
       "1   19   46.2\n",
       "2   13   15.7\n",
       "3  124  422.2\n",
       "4   40  119.4\n",
       "5   57  170.9\n",
       "6   23   56.9\n",
       "7   14   77.5\n",
       "8   45  214.0\n",
       "9   10   65.3"
      ]
     },
     "execution_count": 4,
     "metadata": {},
     "output_type": "execute_result"
    }
   ],
   "source": [
    "print(data.columns)\n",
    "data.head(10)"
   ]
  },
  {
   "cell_type": "markdown",
   "id": "b505235e-bfcf-4a75-9aad-0ee48c61ea2d",
   "metadata": {},
   "source": [
    "Vamos dar uma olhada nos dados em si. Você pode usar matplotlib.pyplot ou plotly para visualização."
   ]
  },
  {
   "cell_type": "markdown",
   "id": "042c21a3-f86c-48e0-9d3e-4cb681427f9f",
   "metadata": {},
   "source": [
    "### Plot a distribuição da coluna X usando o box plot da lib plotly"
   ]
  },
  {
   "cell_type": "code",
   "execution_count": 6,
   "id": "b89dddcb-ef4d-413d-bea0-55ddf83ccfba",
   "metadata": {},
   "outputs": [
    {
     "name": "stdout",
     "output_type": "stream",
     "text": [
      "chipi chipi chapa chapa\n"
     ]
    }
   ],
   "source": [
    "print(\"chipi chipi chapa chapa\")"
   ]
  },
  {
   "cell_type": "markdown",
   "id": "b0838ef7-3962-4ca2-b342-354215f01923",
   "metadata": {},
   "source": [
    "### Plot a distribuição da coluna Y usando o box plot da lib plotly"
   ]
  },
  {
   "cell_type": "code",
   "execution_count": null,
   "id": "41a8f9ef-d878-4f70-815e-289a13d696d5",
   "metadata": {},
   "outputs": [],
   "source": []
  },
  {
   "cell_type": "markdown",
   "id": "58f82fc7-1880-493c-89ce-57f764401821",
   "metadata": {},
   "source": [
    "### Faça o plot da dispersão entre a variável X e Y para verificar o relacionamento entre variável independente e variável dependente (continue utilizando a lib plotly)"
   ]
  },
  {
   "cell_type": "code",
   "execution_count": null,
   "id": "67eec213-a93e-46d9-900a-4476b2f56a2d",
   "metadata": {},
   "outputs": [],
   "source": []
  },
  {
   "cell_type": "markdown",
   "id": "789dd4a8-37bd-40d2-acaa-4525ca3c5408",
   "metadata": {},
   "source": [
    "## Este treinamento é dividido em cinco partes:\n",
    "* Calcular média e variância.\n",
    "* Calcular covariância (X,Y).\n",
    "* Estimar coeficientes.\n",
    "* Fazer previsões.\n",
    "* Comparação visual para correção.\n",
    "\n",
    "Essas etapas darão a você a base necessária para implementar e treinar modelos de regressão linear simples para seus próprios problemas de previsão."
   ]
  },
  {
   "cell_type": "markdown",
   "id": "d1741aa8-66d6-4ce2-b6ac-b5d93afc0526",
   "metadata": {},
   "source": [
    "### 1. Calcular Média e Variância.\n",
    "Como dito anteriormente, a regressão linear simples usa média e variância dos dados fornecidos. Usaremos as funções internas `numpy` para calculá-las."
   ]
  },
  {
   "cell_type": "code",
   "execution_count": null,
   "id": "e304127a",
   "metadata": {},
   "outputs": [],
   "source": [
    "# Faça o cálculo da média e variância para as variáveis X e Y aqui."
   ]
  },
  {
   "cell_type": "markdown",
   "id": "36ebf876-a3c6-4601-8bf5-a94192d940c0",
   "metadata": {},
   "source": [
    "### 2. Calcule a covariância.\n",
    "A covariância de dois grupos descreve como esses grupos mudam juntos. A covariância é uma generalização da correlação. A correlação descreve a relação entre dois grupos de dados, enquanto a covariância pode descrever a relação entre dois ou mais grupos de dados. Ela é calculada pela seguinte fórmula.\n",
    "$$ Cov(X,Y) = \\frac{\\sum{(X_i - \\overline{X})}{(Y_j - \\overline{Y})}}{n} $$"
   ]
  },
  {
   "cell_type": "code",
   "execution_count": null,
   "id": "49261031",
   "metadata": {},
   "outputs": [],
   "source": [
    "# Faça o cálculo da covariância entre X e Y aqui."
   ]
  },
  {
   "cell_type": "markdown",
   "id": "cfad8c1d-ef28-4dcd-b706-4ef677742f0e",
   "metadata": {},
   "source": [
    "### 3. Estimar coeficientes\n",
    "Agora que temos todas as variáveis necessárias para calcular os coeficientes (parâmetros) de uma regressão linear simples, vamos em frente para estimar esses parâmetros (b1 e b0);"
   ]
  },
  {
   "cell_type": "markdown",
   "id": "72461fdc-4159-46de-ac35-f9d229f36f7b",
   "metadata": {},
   "source": [
    "### Fórmulas para os parâmetros da regressão linear simples\n",
    "\n",
    "1. **Cálculo do coeficiente angular $b_1$:**\n",
    "\n",
    "$$\n",
    "b_1 = \\frac{\\sum{(x_i - \\overline{x})(y_i - \\overline{y})}}{\\sum{(x_i - \\overline{x})^2}}\n",
    "$$\n",
    "\n",
    "ou, equivalente:\n",
    "\n",
    "$$\n",
    "b_1 = \\frac{Cov(X, Y)}{Var(X)}\n",
    "$$\n",
    "\n",
    "2. **Cálculo do intercepto $b_0$:**\n",
    "\n",
    "$$\n",
    "b_0 = \\overline{y} - b_1 \\cdot \\overline{x}\n",
    "$$\n",
    "\n",
    "### Onde:\n",
    "- $x_i$: valores da variável independente $x$,\n",
    "- $y_i$: valores da variável dependente $y$,\n",
    "- $\\overline{x}$: média dos valores de $x$,\n",
    "- $\\overline{y}$: média dos valores de $y$,\n",
    "- $Cov(X, Y)$: covariância entre $X$ e $Y$,\n",
    "  - $$ Cov(X,Y) = \\frac{\\sum{(x_i - \\overline{x})(y_i - \\overline{y})}}{n} $$\n",
    "- $Var(X)$: variância de $X$,\n",
    "  - $$ Var(X) = \\frac{\\sum{(x_i - \\overline{x})^2}}{n} $$\n"
   ]
  },
  {
   "cell_type": "code",
   "execution_count": 23,
   "id": "0117869a",
   "metadata": {},
   "outputs": [],
   "source": [
    "# Estime os valores para os parâmetros b1 e b0 aqui com base nas estatísticas calculadas anteriormente"
   ]
  },
  {
   "cell_type": "markdown",
   "id": "627773c3-d53f-49c3-b1d1-e20bc6cf275e",
   "metadata": {},
   "source": [
    "### 4. Faça previsões\n",
    "O modelo de regressão linear simples é uma reta definida por coeficientes estimados a partir de dados de treinamento. Uma vez que os coeficientes são estimados, podemos usá-los para fazer previsões. A equação para fazer previsões com um modelo de regressão linear simples é a seguinte:\n",
    "$$ \\hat{y} = b_0 + b_1 * x $$"
   ]
  },
  {
   "cell_type": "code",
   "execution_count": 25,
   "id": "2e415f9e-d46d-4a81-9437-ce799cf203fc",
   "metadata": {},
   "outputs": [],
   "source": [
    "# Calcule as predições aqui com base na variável X do nosso conjunto de dados."
   ]
  },
  {
   "cell_type": "markdown",
   "id": "e5355ed8-4c9d-4744-b0d6-31043a916038",
   "metadata": {},
   "source": [
    "### 5. Visualizando as predições como uma regressão linear"
   ]
  },
  {
   "cell_type": "code",
   "execution_count": null,
   "id": "db8acf45-a817-452b-a9d7-e84521a26f04",
   "metadata": {},
   "outputs": [],
   "source": [
    "# Plot a regressão linear estimada aqui usando o plotly"
   ]
  },
  {
   "cell_type": "markdown",
   "id": "db4d1cad-68da-49a5-a172-aa4c0aaa36a3",
   "metadata": {},
   "source": [
    "## Para onde ir a partir daqui (extra)\n",
    "* <font color=\"red\">Você consegue descobrir precisão das previsões (RMSE e MSE)???</font>\n",
    "* Estender o mesmo problema para vários recursos de entrada."
   ]
  },
  {
   "cell_type": "code",
   "execution_count": null,
   "id": "561c4d2a-5350-4736-99d3-e5a99b2e4c73",
   "metadata": {},
   "outputs": [],
   "source": []
  }
 ],
 "metadata": {
  "kernelspec": {
   "display_name": "Python 3 (ipykernel)",
   "language": "python",
   "name": "python3"
  },
  "language_info": {
   "codemirror_mode": {
    "name": "ipython",
    "version": 3
   },
   "file_extension": ".py",
   "mimetype": "text/x-python",
   "name": "python",
   "nbconvert_exporter": "python",
   "pygments_lexer": "ipython3",
   "version": "3.13.0"
  }
 },
 "nbformat": 4,
 "nbformat_minor": 5
}
